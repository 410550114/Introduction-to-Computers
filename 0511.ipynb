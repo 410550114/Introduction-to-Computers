{
  "nbformat": 4,
  "nbformat_minor": 0,
  "metadata": {
    "colab": {
      "name": "0511.ipynb",
      "provenance": [],
      "authorship_tag": "ABX9TyNliVshNVHk4WGhRb4phWE5",
      "include_colab_link": true
    },
    "kernelspec": {
      "name": "python3",
      "display_name": "Python 3"
    },
    "language_info": {
      "name": "python"
    }
  },
  "cells": [
    {
      "cell_type": "markdown",
      "metadata": {
        "id": "view-in-github",
        "colab_type": "text"
      },
      "source": [
        "<a href=\"https://colab.research.google.com/github/410550114/Introduction-to-Computers/blob/main/0511.ipynb\" target=\"_parent\"><img src=\"https://colab.research.google.com/assets/colab-badge.svg\" alt=\"Open In Colab\"/></a>"
      ]
    },
    {
      "cell_type": "code",
      "execution_count": null,
      "metadata": {
        "colab": {
          "base_uri": "https://localhost:8080/"
        },
        "id": "SyVLjmBWg-ha",
        "outputId": "89eeef07-b126-4962-ff6f-97cc07222799"
      },
      "outputs": [
        {
          "output_type": "stream",
          "name": "stdout",
          "text": [
            "請輸入你的體溫37.6\n",
            "體溫過高!\n"
          ]
        }
      ],
      "source": [
        "temp=float(input('請輸入你的體溫'))\n",
        "if(temp>=37.5):\n",
        "  print('體溫過高!')\n",
        "elif(temp>=37 and temp<37.4):\n",
        "  print('體溫略高!')\n",
        "elif(temp>=34 and temp<36.9):\n",
        "  print('體溫正常!')\n",
        "else:\n",
        "  print('體溫異常，請重新量測!')"
      ]
    },
    {
      "cell_type": "code",
      "source": [
        "money=int(input('請輸入購物金額:'))\n",
        "if(money>=10000):\n",
        "  if(money>=100000):\n",
        "    print('八折',money*0.8,end='元\\n')\n",
        "  elif(money>=50000):\n",
        "    print('八五折',money*0.85,end='元\\n')\n",
        "  elif(money>=30000):\n",
        "    print('九折',money*0.9,end='元\\n')\n",
        "  else:\n",
        "    print('九五折',money*0.95,end='元\\n')\n",
        "else:\n",
        "  print('沒打折',money,end='元\\n')"
      ],
      "metadata": {
        "colab": {
          "base_uri": "https://localhost:8080/"
        },
        "id": "ZZxYJ0eGlVsr",
        "outputId": "96c5bfa7-1b0a-41a7-a755-468e8de06ce6"
      },
      "execution_count": null,
      "outputs": [
        {
          "output_type": "stream",
          "name": "stdout",
          "text": [
            "請輸入購物金額:50000\n",
            "八五折 42500.0元\n"
          ]
        }
      ]
    },
    {
      "cell_type": "code",
      "source": [
        "grade=int(input('請輸入成績:'))\n",
        "if(grade>=90):\n",
        "  print('A')\n",
        "elif(grade>=80 and grade<=89):\n",
        "  print('B')\n",
        "elif(grade>=70 and grade<=79):\n",
        "  print('C')\n",
        "elif(grade>=60 and grade<=69):\n",
        "  print('D')\n",
        "else:\n",
        "  print('E')"
      ],
      "metadata": {
        "colab": {
          "base_uri": "https://localhost:8080/"
        },
        "id": "XDgRm6D8qMAY",
        "outputId": "65d503eb-96c2-4b03-e7c8-941c1f329690"
      },
      "execution_count": null,
      "outputs": [
        {
          "output_type": "stream",
          "name": "stdout",
          "text": [
            "請輸入成績:80\n",
            "B\n"
          ]
        }
      ]
    },
    {
      "cell_type": "code",
      "source": [
        "season=int(input('請輸入月份:'))\n",
        "if(season>=1 and season<=12):\n",
        "  if(season>=3 and season<=5):\n",
        "    print(season,'月是春天!')\n",
        "  elif(season>=6 and season<=8):\n",
        "    print(season,'月是夏天!')\n",
        "  elif(season>=9 and season<=11):\n",
        "    print(season,'月是秋天!')\n",
        "  else:\n",
        "    print(season,'月是冬天!')\n",
        "else:\n",
        "  print('月份不在範圍內!')"
      ],
      "metadata": {
        "colab": {
          "base_uri": "https://localhost:8080/"
        },
        "id": "pSb5YUllrxKM",
        "outputId": "b7e45754-7d0d-47b1-c4aa-c464d53c7134"
      },
      "execution_count": null,
      "outputs": [
        {
          "output_type": "stream",
          "name": "stdout",
          "text": [
            "請輸入月份:15\n",
            "月份不在範圍內!\n"
          ]
        }
      ]
    },
    {
      "cell_type": "code",
      "source": [
        "profit=int(input('請輸入今年收入淨額:'))\n",
        "if(profit>=300000):\n",
        "  if(profit>=2000000):\n",
        "    print('付稅金額:',profit*0.3,end='元\\n')\n",
        "  elif(profit>=1000000):\n",
        "    print('付稅金額:',profit*0.21,end='元\\n')\n",
        "  elif(profit>=600000):\n",
        "    print('付稅金額:',profit*0.13,end='元\\n')\n",
        "  else:\n",
        "    print('付稅金額:',profit*0.06,end='元\\n')\n",
        "else:\n",
        "  print('付稅金額:',profit*0,end='元\\n')"
      ],
      "metadata": {
        "colab": {
          "base_uri": "https://localhost:8080/"
        },
        "id": "a8YNWMrbuBwr",
        "outputId": "16e98fbe-f7f5-441a-92f7-9218fccc1898"
      },
      "execution_count": null,
      "outputs": [
        {
          "output_type": "stream",
          "name": "stdout",
          "text": [
            "請輸入今年收入淨額:2000000\n",
            "付稅金額: 600000.0元\n"
          ]
        }
      ]
    }
  ]
}